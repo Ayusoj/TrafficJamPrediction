{
 "cells": [
  {
   "cell_type": "markdown",
   "metadata": {},
   "source": [
    "## Generar los 2 documentos de todo el año 2021 (para la calle Toledo en ambos sentidos)"
   ]
  },
  {
   "cell_type": "code",
   "execution_count": 1,
   "metadata": {},
   "outputs": [],
   "source": [
    "import pandas as pd\n",
    "\n",
    "folderPath = \"C:/Users/jonay/Desktop/Master_IoT/TFM/2021/\"\n",
    "\n",
    "#Calles principales\n",
    "calleToledo1=4708\n",
    "calleToledo2=4709\n",
    "\n",
    "#Calles a menos de 0.43KM de las calles principales\n",
    "cToledo3=4711\n",
    "cColegiata=4707\n",
    "cTintoreros=4717\n",
    "plazaCebada=4710\n",
    "cSegovia1=4715\n",
    "cConcepciónJ=3401\n",
    "cCuchilleros=4716\n",
    "cCondeR=4718\n",
    "cSegovia2=4714\n",
    "cToledo4=4712\n",
    "cDoctorC=4199\n",
    "carreraSF=4263\n",
    "cMayor1=4268\n",
    "cMayor2=4269"
   ]
  },
  {
   "cell_type": "markdown",
   "metadata": {},
   "source": [
    "### Documentos para las 2 calles principales"
   ]
  },
  {
   "cell_type": "code",
   "execution_count": null,
   "metadata": {},
   "outputs": [],
   "source": [
    "#Primer csv, sacar datos con ese id y añadir a un nuevo csv donde juntaremos todos los datos de ese id de distintos meses\n",
    "df1 = pd.read_csv(folderPath + \"01-2021.csv\",sep=\";\")\n",
    "df1_calle = df1[df1.id==calleToledo1]\n",
    "df1_calle.to_csv(\"calleToledo1_2021.csv\",sep=\";\", mode='w', index=False, header=True)\n",
    "\n",
    "df2 = pd.read_csv(folderPath + \"01-2021.csv\",sep=\";\")\n",
    "df2_calle = df2[df2.id==calleToledo2]\n",
    "df2_calle.to_csv(\"calleToledo2_2021.csv\",sep=\";\", mode='w', index=False, header=True)\n",
    "\n",
    "    \n",
    "#Añadir el resto de meses a ese nuevo csv\n",
    "meses=[\"02\",\"03\",\"04\",\"05\",\"06\",\"07\",\"08\",\"09\",\"10\",\"11\",\"12\"]\n",
    "for mes in meses:\n",
    "    df1 = pd.read_csv(folderPath + mes + \"-2021.csv\",sep=\";\")\n",
    "    df1_calle = df1[df1.id==calleToledo1]\n",
    "    df1_calle.to_csv(\"calleToledo1_2021.csv\",sep=\";\", mode='a', index=False, header=False)\n",
    "    \n",
    "    df2 = pd.read_csv(folderPath + mes + \"-2021.csv\",sep=\";\")\n",
    "    df2_calle = df2[df2.id==calleToledo1]\n",
    "    df2_calle.to_csv(\"calleToledo1_2021.csv\",sep=\";\", mode='a', index=False, header=False)"
   ]
  },
  {
   "cell_type": "markdown",
   "metadata": {},
   "source": [
    "### Documentos para el resto de calles"
   ]
  },
  {
   "cell_type": "markdown",
   "metadata": {},
   "source": [
    "##### Calle Toledo 3 después de la rotondo Cebada, sentido N-S"
   ]
  },
  {
   "cell_type": "code",
   "execution_count": null,
   "metadata": {},
   "outputs": [],
   "source": [
    "#Primer csv, sacar datos con ese id y añadir a un nuevo csv donde juntaremos todos los datos de ese id de distintos meses\n",
    "df = pd.read_csv(folderPath + \"01-2021.csv\",sep=\";\")\n",
    "df_calle = df[df.id==cToledo3]\n",
    "df_calle.to_csv(\"cToledo3_2021.csv\",sep=\";\", mode='w', index=False, header=True)\n",
    "    \n",
    "#Añadir el resto de meses a ese nuevo csv\n",
    "meses=[\"02\",\"03\",\"04\",\"05\",\"06\",\"07\",\"08\",\"09\",\"10\",\"11\",\"12\"]\n",
    "for mes in meses:\n",
    "    df = pd.read_csv(folderPath + mes + \"-2021.csv\",sep=\";\")\n",
    "    df_calle = df[df.id==cToledo3]\n",
    "    df_calle.to_csv(\"cToledo3_2021.csv\",sep=\";\", mode='a', index=False, header=False)"
   ]
  },
  {
   "cell_type": "markdown",
   "metadata": {},
   "source": [
    "##### Calle de la Colegiata, desde Calle Toledo "
   ]
  },
  {
   "cell_type": "code",
   "execution_count": null,
   "metadata": {},
   "outputs": [],
   "source": [
    "#Primer csv, sacar datos con ese id y añadir a un nuevo csv donde juntaremos todos los datos de ese id de distintos meses\n",
    "df = pd.read_csv(folderPath + \"01-2021.csv\",sep=\";\")\n",
    "df_calle = df[df.id==cColegiata]\n",
    "df_calle.to_csv(\"cColegiata_2021.csv\",sep=\";\", mode='w', index=False, header=True)\n",
    "    \n",
    "#Añadir el resto de meses a ese nuevo csv\n",
    "meses=[\"02\",\"03\",\"04\",\"05\",\"06\",\"07\",\"08\",\"09\",\"10\",\"11\",\"12\"]\n",
    "for mes in meses:\n",
    "    df = pd.read_csv(folderPath + mes + \"-2021.csv\",sep=\";\")\n",
    "    df_calle = df[df.id==cColegiata]\n",
    "    df_calle.to_csv(\"cColegiata_2021.csv\",sep=\";\", mode='a', index=False, header=False)"
   ]
  },
  {
   "cell_type": "markdown",
   "metadata": {},
   "source": [
    "##### Calle de Tintoreros, hacia Calle Toledo"
   ]
  },
  {
   "cell_type": "code",
   "execution_count": null,
   "metadata": {},
   "outputs": [],
   "source": [
    "#Primer csv, sacar datos con ese id y añadir a un nuevo csv donde juntaremos todos los datos de ese id de distintos meses\n",
    "df = pd.read_csv(folderPath + \"01-2021.csv\",sep=\";\")\n",
    "df_calle = df[df.id==cTintoreros]\n",
    "df_calle.to_csv(\"cTintoreros_2021.csv\",sep=\";\", mode='w', index=False, header=True)\n",
    "    \n",
    "#Añadir el resto de meses a ese nuevo csv\n",
    "meses=[\"02\",\"03\",\"04\",\"05\",\"06\",\"07\",\"08\",\"09\",\"10\",\"11\",\"12\"]\n",
    "for mes in meses:\n",
    "    df = pd.read_csv(folderPath + mes + \"-2021.csv\",sep=\";\")\n",
    "    df_calle = df[df.id==cTintoreros]\n",
    "    df_calle.to_csv(\"cTintoreros_2021.csv\",sep=\";\", mode='a', index=False, header=False)"
   ]
  },
  {
   "cell_type": "markdown",
   "metadata": {},
   "source": [
    "##### Plaza Cebada, hacia Calle Toledo"
   ]
  },
  {
   "cell_type": "code",
   "execution_count": null,
   "metadata": {},
   "outputs": [],
   "source": [
    "#Primer csv, sacar datos con ese id y añadir a un nuevo csv donde juntaremos todos los datos de ese id de distintos meses\n",
    "df = pd.read_csv(folderPath + \"01-2021.csv\",sep=\";\")\n",
    "df_calle = df[df.id==plazaCebada]\n",
    "df_calle.to_csv(\"plazaCebada_2021.csv\",sep=\";\", mode='w', index=False, header=True)\n",
    "    \n",
    "#Añadir el resto de meses a ese nuevo csv\n",
    "meses=[\"02\",\"03\",\"04\",\"05\",\"06\",\"07\",\"08\",\"09\",\"10\",\"11\",\"12\"]\n",
    "for mes in meses:\n",
    "    df = pd.read_csv(folderPath + mes + \"-2021.csv\",sep=\";\")\n",
    "    df_calle = df[df.id==plazaCebada]\n",
    "    df_calle.to_csv(\"plazaCebada_2021.csv\",sep=\";\", mode='a', index=False, header=False)"
   ]
  },
  {
   "cell_type": "markdown",
   "metadata": {},
   "source": [
    "##### Calle Segovia, hacia Calle Toledo"
   ]
  },
  {
   "cell_type": "code",
   "execution_count": null,
   "metadata": {},
   "outputs": [],
   "source": [
    "#Primer csv, sacar datos con ese id y añadir a un nuevo csv donde juntaremos todos los datos de ese id de distintos meses\n",
    "df = pd.read_csv(folderPath + \"01-2021.csv\",sep=\";\")\n",
    "df_calle = df[df.id==cSegovia1]\n",
    "df_calle.to_csv(\"cSegovia1_2021.csv\",sep=\";\", mode='w', index=False, header=True)\n",
    "    \n",
    "#Añadir el resto de meses a ese nuevo csv\n",
    "meses=[\"02\",\"03\",\"04\",\"05\",\"06\",\"07\",\"08\",\"09\",\"10\",\"11\",\"12\"]\n",
    "for mes in meses:\n",
    "    df = pd.read_csv(folderPath + mes + \"-2021.csv\",sep=\";\")\n",
    "    df_calle = df[df.id==cSegovia1]\n",
    "    df_calle.to_csv(\"cSegovia1_2021.csv\",sep=\";\", mode='a', index=False, header=False)"
   ]
  },
  {
   "cell_type": "markdown",
   "metadata": {},
   "source": [
    "##### Calle Concepción Jersnima, hacia Calle Toledo"
   ]
  },
  {
   "cell_type": "code",
   "execution_count": null,
   "metadata": {},
   "outputs": [],
   "source": [
    "#Primer csv, sacar datos con ese id y añadir a un nuevo csv donde juntaremos todos los datos de ese id de distintos meses\n",
    "df = pd.read_csv(folderPath + \"01-2021.csv\",sep=\";\")\n",
    "df_calle = df[df.id==cConcepciónJ]\n",
    "df_calle.to_csv(\"cConcepciónJ_2021.csv\",sep=\";\", mode='w', index=False, header=True)\n",
    "    \n",
    "#Añadir el resto de meses a ese nuevo csv\n",
    "meses=[\"02\",\"03\",\"04\",\"05\",\"06\",\"07\",\"08\",\"09\",\"10\",\"11\",\"12\"]\n",
    "for mes in meses:\n",
    "    df = pd.read_csv(folderPath + mes + \"-2021.csv\",sep=\";\")\n",
    "    df_calle = df[df.id==cConcepciónJ]\n",
    "    df_calle.to_csv(\"cConcepciónJ_2021.csv\",sep=\";\", mode='a', index=False, header=False)"
   ]
  },
  {
   "cell_type": "markdown",
   "metadata": {},
   "source": [
    "##### Calle Cuchilleros, hacia Calle Toledo"
   ]
  },
  {
   "cell_type": "code",
   "execution_count": null,
   "metadata": {},
   "outputs": [],
   "source": [
    "#Primer csv, sacar datos con ese id y añadir a un nuevo csv donde juntaremos todos los datos de ese id de distintos meses\n",
    "df = pd.read_csv(folderPath + \"01-2021.csv\",sep=\";\")\n",
    "df_calle = df[df.id==cCuchilleros]\n",
    "df_calle.to_csv(\"cCuchilleros_2021.csv\",sep=\";\", mode='w', index=False, header=True)\n",
    "    \n",
    "#Añadir el resto de meses a ese nuevo csv\n",
    "meses=[\"02\",\"03\",\"04\",\"05\",\"06\",\"07\",\"08\",\"09\",\"10\",\"11\",\"12\"]\n",
    "for mes in meses:\n",
    "    df = pd.read_csv(folderPath + mes + \"-2021.csv\",sep=\";\")\n",
    "    df_calle = df[df.id==cCuchilleros]\n",
    "    df_calle.to_csv(\"cCuchilleros_2021.csv\",sep=\";\", mode='a', index=False, header=False)"
   ]
  },
  {
   "cell_type": "markdown",
   "metadata": {},
   "source": [
    "##### Calle Conde de Romanones, dirección N-S"
   ]
  },
  {
   "cell_type": "code",
   "execution_count": null,
   "metadata": {},
   "outputs": [],
   "source": [
    "#Primer csv, sacar datos con ese id y añadir a un nuevo csv donde juntaremos todos los datos de ese id de distintos meses\n",
    "df = pd.read_csv(folderPath + \"01-2021.csv\",sep=\";\")\n",
    "df_calle = df[df.id==cCondeR]\n",
    "df_calle.to_csv(\"cCondeR_2021.csv\",sep=\";\", mode='w', index=False, header=True)\n",
    "    \n",
    "#Añadir el resto de meses a ese nuevo csv\n",
    "meses=[\"02\",\"03\",\"04\",\"05\",\"06\",\"07\",\"08\",\"09\",\"10\",\"11\",\"12\"]\n",
    "for mes in meses:\n",
    "    df = pd.read_csv(folderPath + mes + \"-2021.csv\",sep=\";\")\n",
    "    df_calle = df[df.id==cCondeR]\n",
    "    df_calle.to_csv(\"cCondeR_2021.csv\",sep=\";\", mode='a', index=False, header=False)"
   ]
  },
  {
   "cell_type": "markdown",
   "metadata": {},
   "source": [
    "##### Calle Segovia 2, hacia calle Toledo"
   ]
  },
  {
   "cell_type": "code",
   "execution_count": null,
   "metadata": {},
   "outputs": [],
   "source": [
    "#Primer csv, sacar datos con ese id y añadir a un nuevo csv donde juntaremos todos los datos de ese id de distintos meses\n",
    "df = pd.read_csv(folderPath + \"01-2021.csv\",sep=\";\")\n",
    "df_calle = df[df.id==cSegovia2]\n",
    "df_calle.to_csv(\"cSegovia2_2021.csv\",sep=\";\", mode='w', index=False, header=True)\n",
    "    \n",
    "#Añadir el resto de meses a ese nuevo csv\n",
    "meses=[\"02\",\"03\",\"04\",\"05\",\"06\",\"07\",\"08\",\"09\",\"10\",\"11\",\"12\"]\n",
    "for mes in meses:\n",
    "    df = pd.read_csv(folderPath + mes + \"-2021.csv\",sep=\";\")\n",
    "    df_calle = df[df.id==cSegovia2]\n",
    "    df_calle.to_csv(\"cSegovia2_2021.csv\",sep=\";\", mode='a', index=False, header=False)"
   ]
  },
  {
   "cell_type": "markdown",
   "metadata": {},
   "source": [
    "##### Calle Toledo 4, dirección S-N"
   ]
  },
  {
   "cell_type": "code",
   "execution_count": null,
   "metadata": {},
   "outputs": [],
   "source": [
    "#Primer csv, sacar datos con ese id y añadir a un nuevo csv donde juntaremos todos los datos de ese id de distintos meses\n",
    "df = pd.read_csv(folderPath + \"01-2021.csv\",sep=\";\")\n",
    "df_calle = df[df.id==cToledo4]\n",
    "df_calle.to_csv(\"cToledo4_2021.csv\",sep=\";\", mode='w', index=False, header=True)\n",
    "    \n",
    "#Añadir el resto de meses a ese nuevo csv\n",
    "meses=[\"02\",\"03\",\"04\",\"05\",\"06\",\"07\",\"08\",\"09\",\"10\",\"11\",\"12\"]\n",
    "for mes in meses:\n",
    "    df = pd.read_csv(folderPath + mes + \"-2021.csv\",sep=\";\")\n",
    "    df_calle = df[df.id==cToledo4]\n",
    "    df_calle.to_csv(\"cToledo4_2021.csv\",sep=\";\", mode='a', index=False, header=False)"
   ]
  },
  {
   "cell_type": "markdown",
   "metadata": {},
   "source": [
    "##### Calle Doctor Cortezo, dirección S-N"
   ]
  },
  {
   "cell_type": "code",
   "execution_count": null,
   "metadata": {},
   "outputs": [],
   "source": [
    "#Primer csv, sacar datos con ese id y añadir a un nuevo csv donde juntaremos todos los datos de ese id de distintos meses\n",
    "df = pd.read_csv(folderPath + \"01-2021.csv\",sep=\";\")\n",
    "df_calle = df[df.id==cDoctorC]\n",
    "df_calle.to_csv(\"cDoctorC_2021.csv\",sep=\";\", mode='w', index=False, header=True)\n",
    "    \n",
    "#Añadir el resto de meses a ese nuevo csv\n",
    "meses=[\"02\",\"03\",\"04\",\"05\",\"06\",\"07\",\"08\",\"09\",\"10\",\"11\",\"12\"]\n",
    "for mes in meses:\n",
    "    df = pd.read_csv(folderPath + mes + \"-2021.csv\",sep=\";\")\n",
    "    df_calle = df[df.id==cDoctorC]\n",
    "    df_calle.to_csv(\"cDoctorC_2021.csv\",sep=\";\", mode='a', index=False, header=False)"
   ]
  },
  {
   "cell_type": "markdown",
   "metadata": {},
   "source": [
    "##### Carrera de San Francisco, dirección E-O"
   ]
  },
  {
   "cell_type": "code",
   "execution_count": null,
   "metadata": {},
   "outputs": [],
   "source": [
    "#Primer csv, sacar datos con ese id y añadir a un nuevo csv donde juntaremos todos los datos de ese id de distintos meses\n",
    "df = pd.read_csv(folderPath + \"01-2021.csv\",sep=\";\")\n",
    "df_calle = df[df.id==carreraSF]\n",
    "df_calle.to_csv(\"carreraSF_2021.csv\",sep=\";\", mode='w', index=False, header=True)\n",
    "    \n",
    "#Añadir el resto de meses a ese nuevo csv\n",
    "meses=[\"02\",\"03\",\"04\",\"05\",\"06\",\"07\",\"08\",\"09\",\"10\",\"11\",\"12\"]\n",
    "for mes in meses:\n",
    "    df = pd.read_csv(folderPath + mes + \"-2021.csv\",sep=\";\")\n",
    "    df_calle = df[df.id==carreraSF]\n",
    "    df_calle.to_csv(\"carreraSF_2021.csv\",sep=\";\", mode='a', index=False, header=False)"
   ]
  },
  {
   "cell_type": "markdown",
   "metadata": {},
   "source": [
    "##### Calle Mayor, dirección O-E"
   ]
  },
  {
   "cell_type": "code",
   "execution_count": null,
   "metadata": {},
   "outputs": [],
   "source": [
    "#Primer csv, sacar datos con ese id y añadir a un nuevo csv donde juntaremos todos los datos de ese id de distintos meses\n",
    "df = pd.read_csv(folderPath + \"01-2021.csv\",sep=\";\")\n",
    "df_calle = df[df.id==cMayor1]\n",
    "df_calle.to_csv(\"cMayor1_2021.csv\",sep=\";\", mode='w', index=False, header=True)\n",
    "    \n",
    "#Añadir el resto de meses a ese nuevo csv\n",
    "meses=[\"02\",\"03\",\"04\",\"05\",\"06\",\"07\",\"08\",\"09\",\"10\",\"11\",\"12\"]\n",
    "for mes in meses:\n",
    "    df = pd.read_csv(folderPath + mes + \"-2021.csv\",sep=\";\")\n",
    "    df_calle = df[df.id==cMayor1]\n",
    "    df_calle.to_csv(\"cMayor1_2021.csv\",sep=\";\", mode='a', index=False, header=False)"
   ]
  },
  {
   "cell_type": "markdown",
   "metadata": {},
   "source": [
    "##### Calle Mayor 2, dirección O-E"
   ]
  },
  {
   "cell_type": "code",
   "execution_count": null,
   "metadata": {},
   "outputs": [],
   "source": [
    "#Primer csv, sacar datos con ese id y añadir a un nuevo csv donde juntaremos todos los datos de ese id de distintos meses\n",
    "df = pd.read_csv(folderPath + \"01-2021.csv\",sep=\";\")\n",
    "df_calle = df[df.id==cMayor2]\n",
    "df_calle.to_csv(\"cMayor2_2021.csv\",sep=\";\", mode='w', index=False, header=True)\n",
    "    \n",
    "#Añadir el resto de meses a ese nuevo csv\n",
    "meses=[\"02\",\"03\",\"04\",\"05\",\"06\",\"07\",\"08\",\"09\",\"10\",\"11\",\"12\"]\n",
    "for mes in meses:\n",
    "    df = pd.read_csv(folderPath + mes + \"-2021.csv\",sep=\";\")\n",
    "    df_calle = df[df.id==cMayor2]\n",
    "    df_calle.to_csv(\"cMayor2_2021.csv\",sep=\";\", mode='a', index=False, header=False)"
   ]
  },
  {
   "cell_type": "markdown",
   "metadata": {},
   "source": [
    "### Plots para las 2 calles principales (calleToledo1 y calleToledo2)"
   ]
  },
  {
   "cell_type": "code",
   "execution_count": 2,
   "metadata": {
    "scrolled": true
   },
   "outputs": [
    {
     "data": {
      "text/html": [
       "<div>\n",
       "<style scoped>\n",
       "    .dataframe tbody tr th:only-of-type {\n",
       "        vertical-align: middle;\n",
       "    }\n",
       "\n",
       "    .dataframe tbody tr th {\n",
       "        vertical-align: top;\n",
       "    }\n",
       "\n",
       "    .dataframe thead th {\n",
       "        text-align: right;\n",
       "    }\n",
       "</style>\n",
       "<table border=\"1\" class=\"dataframe\">\n",
       "  <thead>\n",
       "    <tr style=\"text-align: right;\">\n",
       "      <th></th>\n",
       "      <th>id</th>\n",
       "      <th>fecha</th>\n",
       "      <th>intensidad</th>\n",
       "      <th>ocupacion</th>\n",
       "      <th>carga</th>\n",
       "    </tr>\n",
       "  </thead>\n",
       "  <tbody>\n",
       "    <tr>\n",
       "      <th>0</th>\n",
       "      <td>4708</td>\n",
       "      <td>2021-01-01 00:00:00</td>\n",
       "      <td>87</td>\n",
       "      <td>1.0</td>\n",
       "      <td>7</td>\n",
       "    </tr>\n",
       "    <tr>\n",
       "      <th>1</th>\n",
       "      <td>4708</td>\n",
       "      <td>2021-01-01 00:15:00</td>\n",
       "      <td>65</td>\n",
       "      <td>2.0</td>\n",
       "      <td>6</td>\n",
       "    </tr>\n",
       "    <tr>\n",
       "      <th>2</th>\n",
       "      <td>4708</td>\n",
       "      <td>2021-01-01 00:30:00</td>\n",
       "      <td>104</td>\n",
       "      <td>3.0</td>\n",
       "      <td>9</td>\n",
       "    </tr>\n",
       "    <tr>\n",
       "      <th>3</th>\n",
       "      <td>4708</td>\n",
       "      <td>2021-01-01 00:45:00</td>\n",
       "      <td>124</td>\n",
       "      <td>2.0</td>\n",
       "      <td>11</td>\n",
       "    </tr>\n",
       "    <tr>\n",
       "      <th>4</th>\n",
       "      <td>4708</td>\n",
       "      <td>2021-01-01 01:00:00</td>\n",
       "      <td>148</td>\n",
       "      <td>4.0</td>\n",
       "      <td>13</td>\n",
       "    </tr>\n",
       "    <tr>\n",
       "      <th>...</th>\n",
       "      <td>...</td>\n",
       "      <td>...</td>\n",
       "      <td>...</td>\n",
       "      <td>...</td>\n",
       "      <td>...</td>\n",
       "    </tr>\n",
       "    <tr>\n",
       "      <th>34640</th>\n",
       "      <td>4708</td>\n",
       "      <td>2021-12-31 22:45:00</td>\n",
       "      <td>148</td>\n",
       "      <td>4.0</td>\n",
       "      <td>14</td>\n",
       "    </tr>\n",
       "    <tr>\n",
       "      <th>34641</th>\n",
       "      <td>4708</td>\n",
       "      <td>2021-12-31 23:00:00</td>\n",
       "      <td>80</td>\n",
       "      <td>2.0</td>\n",
       "      <td>7</td>\n",
       "    </tr>\n",
       "    <tr>\n",
       "      <th>34642</th>\n",
       "      <td>4708</td>\n",
       "      <td>2021-12-31 23:15:00</td>\n",
       "      <td>116</td>\n",
       "      <td>3.0</td>\n",
       "      <td>10</td>\n",
       "    </tr>\n",
       "    <tr>\n",
       "      <th>34643</th>\n",
       "      <td>4708</td>\n",
       "      <td>2021-12-31 23:30:00</td>\n",
       "      <td>150</td>\n",
       "      <td>4.0</td>\n",
       "      <td>12</td>\n",
       "    </tr>\n",
       "    <tr>\n",
       "      <th>34644</th>\n",
       "      <td>4708</td>\n",
       "      <td>2021-12-31 23:45:00</td>\n",
       "      <td>144</td>\n",
       "      <td>3.0</td>\n",
       "      <td>12</td>\n",
       "    </tr>\n",
       "  </tbody>\n",
       "</table>\n",
       "<p>34645 rows × 5 columns</p>\n",
       "</div>"
      ],
      "text/plain": [
       "         id               fecha  intensidad  ocupacion  carga\n",
       "0      4708 2021-01-01 00:00:00          87        1.0      7\n",
       "1      4708 2021-01-01 00:15:00          65        2.0      6\n",
       "2      4708 2021-01-01 00:30:00         104        3.0      9\n",
       "3      4708 2021-01-01 00:45:00         124        2.0     11\n",
       "4      4708 2021-01-01 01:00:00         148        4.0     13\n",
       "...     ...                 ...         ...        ...    ...\n",
       "34640  4708 2021-12-31 22:45:00         148        4.0     14\n",
       "34641  4708 2021-12-31 23:00:00          80        2.0      7\n",
       "34642  4708 2021-12-31 23:15:00         116        3.0     10\n",
       "34643  4708 2021-12-31 23:30:00         150        4.0     12\n",
       "34644  4708 2021-12-31 23:45:00         144        3.0     12\n",
       "\n",
       "[34645 rows x 5 columns]"
      ]
     },
     "execution_count": 2,
     "metadata": {},
     "output_type": "execute_result"
    }
   ],
   "source": [
    "df_CT1 = pd.read_csv(\"calleToledo1_2021.csv\",sep=\";\")\n",
    "df_CT1 = df_CT1[['id', 'fecha', 'intensidad', 'ocupacion', 'carga']]\n",
    "df_CT1['fecha'] = pd.to_datetime(df_CT1['fecha'])\n",
    "df_CT1"
   ]
  },
  {
   "cell_type": "code",
   "execution_count": 3,
   "metadata": {},
   "outputs": [
    {
     "data": {
      "text/html": [
       "<div>\n",
       "<style scoped>\n",
       "    .dataframe tbody tr th:only-of-type {\n",
       "        vertical-align: middle;\n",
       "    }\n",
       "\n",
       "    .dataframe tbody tr th {\n",
       "        vertical-align: top;\n",
       "    }\n",
       "\n",
       "    .dataframe thead th {\n",
       "        text-align: right;\n",
       "    }\n",
       "</style>\n",
       "<table border=\"1\" class=\"dataframe\">\n",
       "  <thead>\n",
       "    <tr style=\"text-align: right;\">\n",
       "      <th></th>\n",
       "      <th>id</th>\n",
       "      <th>fecha</th>\n",
       "      <th>intensidad</th>\n",
       "      <th>ocupacion</th>\n",
       "      <th>carga</th>\n",
       "    </tr>\n",
       "  </thead>\n",
       "  <tbody>\n",
       "    <tr>\n",
       "      <th>0</th>\n",
       "      <td>4708</td>\n",
       "      <td>2021-01-01 00:00:00</td>\n",
       "      <td>87</td>\n",
       "      <td>1.0</td>\n",
       "      <td>7</td>\n",
       "    </tr>\n",
       "    <tr>\n",
       "      <th>1</th>\n",
       "      <td>4708</td>\n",
       "      <td>2021-01-01 00:15:00</td>\n",
       "      <td>65</td>\n",
       "      <td>2.0</td>\n",
       "      <td>6</td>\n",
       "    </tr>\n",
       "    <tr>\n",
       "      <th>2</th>\n",
       "      <td>4708</td>\n",
       "      <td>2021-01-01 00:30:00</td>\n",
       "      <td>104</td>\n",
       "      <td>3.0</td>\n",
       "      <td>9</td>\n",
       "    </tr>\n",
       "    <tr>\n",
       "      <th>3</th>\n",
       "      <td>4708</td>\n",
       "      <td>2021-01-01 00:45:00</td>\n",
       "      <td>124</td>\n",
       "      <td>2.0</td>\n",
       "      <td>11</td>\n",
       "    </tr>\n",
       "    <tr>\n",
       "      <th>4</th>\n",
       "      <td>4708</td>\n",
       "      <td>2021-01-01 01:00:00</td>\n",
       "      <td>148</td>\n",
       "      <td>4.0</td>\n",
       "      <td>13</td>\n",
       "    </tr>\n",
       "    <tr>\n",
       "      <th>...</th>\n",
       "      <td>...</td>\n",
       "      <td>...</td>\n",
       "      <td>...</td>\n",
       "      <td>...</td>\n",
       "      <td>...</td>\n",
       "    </tr>\n",
       "    <tr>\n",
       "      <th>34640</th>\n",
       "      <td>4708</td>\n",
       "      <td>2021-12-31 22:45:00</td>\n",
       "      <td>148</td>\n",
       "      <td>4.0</td>\n",
       "      <td>14</td>\n",
       "    </tr>\n",
       "    <tr>\n",
       "      <th>34641</th>\n",
       "      <td>4708</td>\n",
       "      <td>2021-12-31 23:00:00</td>\n",
       "      <td>80</td>\n",
       "      <td>2.0</td>\n",
       "      <td>7</td>\n",
       "    </tr>\n",
       "    <tr>\n",
       "      <th>34642</th>\n",
       "      <td>4708</td>\n",
       "      <td>2021-12-31 23:15:00</td>\n",
       "      <td>116</td>\n",
       "      <td>3.0</td>\n",
       "      <td>10</td>\n",
       "    </tr>\n",
       "    <tr>\n",
       "      <th>34643</th>\n",
       "      <td>4708</td>\n",
       "      <td>2021-12-31 23:30:00</td>\n",
       "      <td>150</td>\n",
       "      <td>4.0</td>\n",
       "      <td>12</td>\n",
       "    </tr>\n",
       "    <tr>\n",
       "      <th>34644</th>\n",
       "      <td>4708</td>\n",
       "      <td>2021-12-31 23:45:00</td>\n",
       "      <td>144</td>\n",
       "      <td>3.0</td>\n",
       "      <td>12</td>\n",
       "    </tr>\n",
       "  </tbody>\n",
       "</table>\n",
       "<p>34645 rows × 5 columns</p>\n",
       "</div>"
      ],
      "text/plain": [
       "         id               fecha  intensidad  ocupacion  carga\n",
       "0      4708 2021-01-01 00:00:00          87        1.0      7\n",
       "1      4708 2021-01-01 00:15:00          65        2.0      6\n",
       "2      4708 2021-01-01 00:30:00         104        3.0      9\n",
       "3      4708 2021-01-01 00:45:00         124        2.0     11\n",
       "4      4708 2021-01-01 01:00:00         148        4.0     13\n",
       "...     ...                 ...         ...        ...    ...\n",
       "34640  4708 2021-12-31 22:45:00         148        4.0     14\n",
       "34641  4708 2021-12-31 23:00:00          80        2.0      7\n",
       "34642  4708 2021-12-31 23:15:00         116        3.0     10\n",
       "34643  4708 2021-12-31 23:30:00         150        4.0     12\n",
       "34644  4708 2021-12-31 23:45:00         144        3.0     12\n",
       "\n",
       "[34645 rows x 5 columns]"
      ]
     },
     "execution_count": 3,
     "metadata": {},
     "output_type": "execute_result"
    }
   ],
   "source": [
    "df_CT2 = pd.read_csv(\"calleToledo1_2021.csv\",sep=\";\")\n",
    "df_CT2 = df_CT2[['id', 'fecha', 'intensidad', 'ocupacion', 'carga']]\n",
    "df_CT2['fecha'] = pd.to_datetime(df_CT2['fecha'])\n",
    "df_CT2"
   ]
  },
  {
   "cell_type": "code",
   "execution_count": 4,
   "metadata": {
    "scrolled": true
   },
   "outputs": [
    {
     "name": "stdout",
     "output_type": "stream",
     "text": [
      "            id    intensidad     ocupacion         carga\n",
      "count  34645.0  34645.000000  34645.000000  34645.000000\n",
      "mean    4708.0    190.174109      9.398759     20.347005\n",
      "std        0.0     92.405175     13.520503     14.680491\n",
      "min     4708.0      0.000000      0.000000      0.000000\n",
      "25%     4708.0    115.000000      3.000000     10.000000\n",
      "50%     4708.0    207.000000      6.000000     19.000000\n",
      "75%     4708.0    260.000000      9.000000     25.000000\n",
      "max     4708.0   1732.000000     90.000000     92.000000\n",
      "\n",
      "\n",
      "            id    intensidad     ocupacion         carga\n",
      "count  34645.0  34645.000000  34645.000000  34645.000000\n",
      "mean    4708.0    190.174109      9.398759     20.347005\n",
      "std        0.0     92.405175     13.520503     14.680491\n",
      "min     4708.0      0.000000      0.000000      0.000000\n",
      "25%     4708.0    115.000000      3.000000     10.000000\n",
      "50%     4708.0    207.000000      6.000000     19.000000\n",
      "75%     4708.0    260.000000      9.000000     25.000000\n",
      "max     4708.0   1732.000000     90.000000     92.000000\n"
     ]
    }
   ],
   "source": [
    "print(df_CT1.describe())\n",
    "print(\"\\n\")\n",
    "print(df_CT2.describe())"
   ]
  },
  {
   "cell_type": "markdown",
   "metadata": {},
   "source": [
    "### Outliers Intensidad para cada dia"
   ]
  },
  {
   "cell_type": "code",
   "execution_count": null,
   "metadata": {},
   "outputs": [],
   "source": [
    "import matplotlib.pyplot as plt\n",
    "%matplotlib inline\n",
    "\n",
    "mesminimo = df_CT1.fecha.dt.month.min()\n",
    "mesmaximo = df_CT1.fecha.dt.month.max()\n",
    "\n",
    "for mes in range(mesminimo,mesmaximo+1):\n",
    "    elmes = df_CT1[df_CT1.fecha.dt.month==mes]\n",
    "    medianaMes = elmes.intensidad.median()\n",
    "    madMes = elmes.intensidad.mad()\n",
    "    #actualizar path\n",
    "    path = ('C:/Users/jonay/Desktop/Master_IoT/TFM/figuras/calleToledo1/meses/intensidad/mes' + str(mes) +\"/\")\n",
    "    #iterar para cada mes\n",
    "    diaminimo = df_CT1.fecha.dt.day.min()\n",
    "    diamaximo = df_CT1.fecha.dt.day.max()\n",
    "    for dia in range(diaminimo,diamaximo+1):\n",
    "        #mediana y mad del dia\n",
    "        eldia = elmes[(elmes.fecha.dt.day==dia)]\n",
    "        eldia.sort_values(by=[\"fecha\"],inplace=True)\n",
    "        #plot\n",
    "        figure, ax = plt.subplots(1,figsize=(12, 4),dpi=100)\n",
    "        outliers = eldia[(eldia.intensidad>medianaMes+3*madMes)]\n",
    "        plt.scatter(eldia.fecha,eldia.intensidad)\n",
    "        plt.scatter(outliers.fecha,outliers.intensidad,color=\"r\")\n",
    "        #guardar imagen\n",
    "        plt.savefig(path + str(dia) + '.png', dpi=100, transparent=True)"
   ]
  },
  {
   "cell_type": "code",
   "execution_count": null,
   "metadata": {},
   "outputs": [],
   "source": [
    "import matplotlib.pyplot as plt\n",
    "%matplotlib inline\n",
    "\n",
    "mesminimo = df_CT2.fecha.dt.month.min()\n",
    "mesmaximo = df_CT2.fecha.dt.month.max()\n",
    "\n",
    "for mes in range(mesminimo,mesmaximo+1):\n",
    "    elmes = df_CT2[df_CT2.fecha.dt.month==mes]\n",
    "    medianaMes = elmes.intensidad.median()\n",
    "    madMes = elmes.intensidad.mad()\n",
    "    #actualizar path\n",
    "    path = ('C:/Users/jonay/Desktop/Master_IoT/TFM/figuras/calleToledo2/meses/intensidad/mes' + str(mes) +\"/\")\n",
    "    #iterar para cada mes\n",
    "    diaminimo = df_CT2.fecha.dt.day.min()\n",
    "    diamaximo = df_CT2.fecha.dt.day.max()\n",
    "    for dia in range(diaminimo,diamaximo+1):\n",
    "        #mediana y mad del dia\n",
    "        eldia = elmes[(elmes.fecha.dt.day==dia)]\n",
    "        eldia.sort_values(by=[\"fecha\"],inplace=True)\n",
    "        #plot\n",
    "        figure, ax = plt.subplots(1,figsize=(12, 4),dpi=100)\n",
    "        outliers = eldia[(eldia.intensidad>medianaMes+3*madMes)]\n",
    "        plt.scatter(eldia.fecha,eldia.intensidad)\n",
    "        plt.scatter(outliers.fecha,outliers.intensidad,color=\"r\")\n",
    "        #guardar imagen\n",
    "        plt.savefig(path + str(dia) + '.png', dpi=100, transparent=True)"
   ]
  },
  {
   "cell_type": "markdown",
   "metadata": {},
   "source": [
    "### Outliers ocupacion para cada dia"
   ]
  },
  {
   "cell_type": "code",
   "execution_count": null,
   "metadata": {},
   "outputs": [],
   "source": [
    "import matplotlib.pyplot as plt\n",
    "%matplotlib inline\n",
    "\n",
    "mesminimo = df_CT1.fecha.dt.month.min()\n",
    "mesmaximo = df_CT1.fecha.dt.month.max()\n",
    "\n",
    "for mes in range(mesminimo,mesmaximo+1):\n",
    "    elmes = df_CT1[df_CT1.fecha.dt.month==mes]\n",
    "    medianaMes = elmes.ocupacion.median()\n",
    "    madMes = elmes.ocupacion.mad()\n",
    "    print(medianaMes,madMes)\n",
    "    #actualizar path\n",
    "    path = ('C:/Users/jonay/Desktop/Master_IoT/TFM/figuras/calleToledo1/meses/ocupacion/mes' + str(mes) +\"/\")\n",
    "    #iterar para cada mes\n",
    "    diaminimo = df_CT1.fecha.dt.day.min()\n",
    "    diamaximo = df_CT1.fecha.dt.day.max()\n",
    "    for dia in range(diaminimo,diamaximo+1):\n",
    "        #mediana y mad del dia\n",
    "        eldia = elmes[(elmes.fecha.dt.day==dia)]\n",
    "        eldia.sort_values(by=[\"fecha\"],inplace=True)\n",
    "        #plot\n",
    "        figure, ax = plt.subplots(1,figsize=(12, 4),dpi=100)\n",
    "        outliers = eldia[(eldia.ocupacion>medianaMes+3*madMes)]\n",
    "        plt.scatter(eldia.fecha,eldia.ocupacion, label='Valores normales')\n",
    "        plt.scatter(outliers.fecha,outliers.ocupacion,color=\"r\", label='Posibles outliers')\n",
    "        plt.title('Valores de Ocupación por horas')\n",
    "        plt.xlabel('Momento de medición')\n",
    "        plt.ylabel('Ocupación')\n",
    "        # Agregar leyenda\n",
    "        plt.legend()\n",
    "        #guardar imagen\n",
    "        plt.savefig(path + str(dia) + '.png', dpi=100, transparent=True)\n",
    "        "
   ]
  },
  {
   "cell_type": "code",
   "execution_count": null,
   "metadata": {},
   "outputs": [],
   "source": [
    "import matplotlib.pyplot as plt\n",
    "%matplotlib inline\n",
    "\n",
    "mesminimo = df_CT2.fecha.dt.month.min()\n",
    "mesmaximo = df_CT2.fecha.dt.month.max()\n",
    "\n",
    "for mes in range(mesminimo,mesmaximo+1):\n",
    "    elmes = df_CT2[df_CT2.fecha.dt.month==mes]\n",
    "    medianaMes = elmes.ocupacion.median()\n",
    "    madMes = elmes.ocupacion.mad()\n",
    "    print(medianaMes,madMes)\n",
    "    #actualizar path\n",
    "    path = ('C:/Users/jonay/Desktop/Master_IoT/TFM/figuras/calleToledo2/meses/ocupacion/mes' + str(mes) +\"/\")\n",
    "    #iterar para cada mes\n",
    "    diaminimo = df_CT2.fecha.dt.day.min()\n",
    "    diamaximo = df_CT2.fecha.dt.day.max()\n",
    "    for dia in range(diaminimo,diamaximo+1):\n",
    "        #mediana y mad del dia\n",
    "        eldia = elmes[(elmes.fecha.dt.day==dia)]\n",
    "        eldia.sort_values(by=[\"fecha\"],inplace=True)\n",
    "        #plot\n",
    "        figure, ax = plt.subplots(1,figsize=(12, 4),dpi=100)\n",
    "        outliers = eldia[(eldia.ocupacion>medianaMes+3*madMes)]\n",
    "        plt.scatter(eldia.fecha,eldia.ocupacion)\n",
    "        plt.scatter(outliers.fecha,outliers.ocupacion,color=\"r\")\n",
    "        #guardar imagen\n",
    "        plt.savefig(path + str(dia) + '.png', dpi=100, transparent=True)"
   ]
  }
 ],
 "metadata": {
  "kernelspec": {
   "display_name": "Python 3 (ipykernel)",
   "language": "python",
   "name": "python3"
  },
  "language_info": {
   "codemirror_mode": {
    "name": "ipython",
    "version": 3
   },
   "file_extension": ".py",
   "mimetype": "text/x-python",
   "name": "python",
   "nbconvert_exporter": "python",
   "pygments_lexer": "ipython3",
   "version": "3.8.16"
  }
 },
 "nbformat": 4,
 "nbformat_minor": 4
}
