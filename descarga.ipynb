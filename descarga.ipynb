{
 "cells": [
  {
   "cell_type": "code",
   "execution_count": null,
   "id": "e16452aa",
   "metadata": {},
   "outputs": [],
   "source": [
    "import requests\n",
    "\n",
    "# 4708\n",
    "# 4709\n",
    "i = 23\n",
    "seguir = True\n",
    "while(seguir):\n",
    "    \n",
    "    url = \"https://datos.madrid.es/egob/catalogo/208627-\"+str(i)+\"-transporte-ptomedida-historico.zip\"\n",
    "    if seguir:\n",
    "        r = requests.get(url, allow_redirects=True)\n",
    "        seguir = r.status_code\n",
    "\n",
    "        open(\"../data/\"+str(i), 'wb').write(r.content)\n",
    "    i+=1"
   ]
  },
  {
   "cell_type": "code",
   "execution_count": null,
   "id": "82307fb4",
   "metadata": {},
   "outputs": [],
   "source": [
    "https://datos.madrid.es/egob/catalogo/208627-92-transporte-ptomedida-historico.zip\n",
    "\n",
    "https://datos.madrid.es/egob/catalogo/208627-103-transporte-ptomedida-historico.zip"
   ]
  }
 ],
 "metadata": {
  "kernelspec": {
   "display_name": "Python 3 (ipykernel)",
   "language": "python",
   "name": "python3"
  },
  "language_info": {
   "codemirror_mode": {
    "name": "ipython",
    "version": 3
   },
   "file_extension": ".py",
   "mimetype": "text/x-python",
   "name": "python",
   "nbconvert_exporter": "python",
   "pygments_lexer": "ipython3",
   "version": "3.8.16"
  }
 },
 "nbformat": 4,
 "nbformat_minor": 5
}
